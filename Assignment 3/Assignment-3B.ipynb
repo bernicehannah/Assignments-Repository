{
 "cells": [
  {
   "cell_type": "markdown",
   "metadata": {},
   "source": [
    "# ITMGT 25.03 EE\n",
    "# Assignment 3B\n",
    "\n",
    "This is a data-cleaning assignment and is the second of two parts. This notebook is uploaded to our Github repository along with a csv of fake, dirty data called **recweekdata.csv**.\n",
    "\n",
    "In addition, you have a new file called **studentprofiles.csv** which has first and last names plus the genders of the students.\n",
    "\n",
    "The output of this assignment is to convert recweekdata.csv into processable data for statistics. Submit the following files through GitHub:\n",
    "1. A cleaned recweekdata.csv called **cleanrecweekdata3b.csv** **(5 points)**\n",
    "2. This notebook, containing the code (properly commented) that you used to clean the data **(5 points)**\n",
    "3. An html file of summary statistics from each column called **stats3b.html**. The requirements for the summary statistics are described below. **(10 points)**\n",
    "\n",
    "The outputs are similar to that of Assignment 3A, except that you will now use Pandas instead of Python lists.\n",
    "\n",
    "This entire assignment (3B) is worth 20 points.\n",
    "\n",
    "Upload your output files to your Github repositories. Make sure to send an email to **joben.ilagan@gmail.com** once you're done.\n",
    "\n",
    "This assignment is due on **Monday, July 9, 2019** at 12:00NN.\n",
    "\n",
    "Note: I understand you all need to review for LT 2. Think of this Assignment as practice. It's not meant to take you as long as 3A.\n",
    "\n",
    "#### Bonus Points:\n",
    "* +2 if submitted over (or before) the weekend (July 13-14)\n",
    "* +2 if CSS and div tags are used (but please don't spend too much time on this because you still need to review for the Long Test)"
   ]
  },
  {
   "cell_type": "code",
   "execution_count": null,
   "metadata": {},
   "outputs": [],
   "source": [
    "## Code goes here\n"
   ]
  },
  {
   "cell_type": "markdown",
   "metadata": {},
   "source": [
    "# Required Summary Statistics\n",
    "\n",
    "#### These were the questions from 3A:\n",
    "\n",
    "1. How many people were born in each month?\n",
    "2. How many people were born on each day?\n",
    "3. How many people were born in each year?\n",
    "4. How many people come from each course?\n",
    "5. How many people have numbers from Globe (0917 or 0927) and Smart (0918)? *Note: it's up to you how to format this output*\n",
    "\n",
    "#### Additional Questions:\n",
    "* How many Globe subscribers are: Male? Female?\n",
    "* How many Smart subscribers are: Male? Female?\n",
    "\n",
    "Answer these questions in an html file called **stats3b.html**. The format of the html is as follows (in template form, so you can use this as format string in your program, though feel free to modify with variable names if you find it easier to do so):\n"
   ]
  },
  {
   "cell_type": "markdown",
   "metadata": {},
   "source": [
    "```\n",
    "<html>\n",
    "    <body>\n",
    "         <h2>Summary Statistics</h2>\n",
    "         <table>\n",
    "             <tr><th>Stat</th><th>Value</th></tr>\n",
    "             <tr><td>People born in each month</td><td>{}</td></tr>\n",
    "             <tr><td>People born on each day</td><td>{}</td></tr>\n",
    "             <tr><td>People born in each year</td><td>{}</td></tr>\n",
    "             <tr><td>People coming from each course</td><td>{}</td></tr>\n",
    "             <tr><td>People having numbers from Globe and Smart</td><td>{}</td></tr>\n",
    "             <tr><td>Male Globe subscribers:</td><td>{}</td></tr>\n",
    "             <tr><td>Female Globe subscribers:</td><td>{}</td></tr>\n",
    "             <tr><td>Male Smart subscribers:</td><td>{}</td></tr>\n",
    "             <tr><td>Female Smart subscribers:</td><td>{}</td></tr>\n",
    "         </table>\n",
    "    </body>\n",
    "</html>\n",
    "```"
   ]
  },
  {
   "cell_type": "code",
   "execution_count": null,
   "metadata": {},
   "outputs": [],
   "source": []
  }
 ],
 "metadata": {
  "kernelspec": {
   "display_name": "Python 3",
   "language": "python",
   "name": "python3"
  },
  "language_info": {
   "codemirror_mode": {
    "name": "ipython",
    "version": 3
   },
   "file_extension": ".py",
   "mimetype": "text/x-python",
   "name": "python",
   "nbconvert_exporter": "python",
   "pygments_lexer": "ipython3",
   "version": "3.7.3"
  }
 },
 "nbformat": 4,
 "nbformat_minor": 2
}
