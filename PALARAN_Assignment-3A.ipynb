{
 "cells": [
  {
   "cell_type": "markdown",
   "metadata": {},
   "source": [
    "# ITMGT 25.03 EE\n",
    "# Assignment 3A\n",
    "\n",
    "This is a data-cleaning assignment and is the first of two parts. The second part (3B) will be given Monday or Tuesday next week. This notebook is uploaded to our Github repository along with a csv of fake, dirty data called **recweekdata.csv**.\n",
    "\n",
    "\n",
    "The output of this assignment is to convert recweekdata.csv into processable data for statistics. Submit the following files through GitHub:\n",
    "1. A cleaned recweekdata.csv called cleanrecweekdata.csv **(5 points)**\n",
    "2. This notebook, containing the code (properly commented) that you used to clean the data **(5 points)**\n",
    "3. An html file of summary statistics from each column called **stats.html**. The requirements for the summary statistics are described below. **(10 points)**\n",
    "\n",
    "This entire assignment (3A) is worth 20 points.\n",
    "\n",
    "Upload your output files to your Github repositories. Make sure to send an email to **joben.ilagan@gmail.com** once you're done.\n",
    "\n",
    "This assignment is due on **Tuesday, July 9, 2019** at 12:00NN."
   ]
  },
  {
   "cell_type": "code",
   "execution_count": 1,
   "metadata": {},
   "outputs": [],
   "source": [
    "## Code goes here\n",
    "import csv\n",
    "import re"
   ]
  },
  {
   "cell_type": "code",
   "execution_count": 2,
   "metadata": {},
   "outputs": [
    {
     "ename": "FileNotFoundError",
     "evalue": "[Errno 2] No such file or directory: 'recweekdata.csv'",
     "output_type": "error",
     "traceback": [
      "\u001b[0;31m---------------------------------------------------------------------------\u001b[0m",
      "\u001b[0;31mFileNotFoundError\u001b[0m                         Traceback (most recent call last)",
      "\u001b[0;32m<ipython-input-2-24368663d121>\u001b[0m in \u001b[0;36m<module>\u001b[0;34m\u001b[0m\n\u001b[0;32m----> 1\u001b[0;31m \u001b[0;32mwith\u001b[0m \u001b[0mopen\u001b[0m\u001b[0;34m(\u001b[0m\u001b[0;34m'recweekdata.csv'\u001b[0m\u001b[0;34m,\u001b[0m\u001b[0;34m'r'\u001b[0m\u001b[0;34m)\u001b[0m \u001b[0;32mas\u001b[0m \u001b[0muncleaned\u001b[0m\u001b[0;34m:\u001b[0m\u001b[0;34m\u001b[0m\u001b[0;34m\u001b[0m\u001b[0m\n\u001b[0m\u001b[1;32m      2\u001b[0m     \u001b[0muncleaned_reader\u001b[0m \u001b[0;34m=\u001b[0m \u001b[0mcsv\u001b[0m\u001b[0;34m.\u001b[0m\u001b[0mreader\u001b[0m\u001b[0;34m(\u001b[0m\u001b[0muncleaned\u001b[0m\u001b[0;34m,\u001b[0m \u001b[0mdelimiter\u001b[0m \u001b[0;34m=\u001b[0m \u001b[0;34m','\u001b[0m\u001b[0;34m)\u001b[0m\u001b[0;34m\u001b[0m\u001b[0;34m\u001b[0m\u001b[0m\n\u001b[1;32m      3\u001b[0m \u001b[0;34m\u001b[0m\u001b[0m\n\u001b[1;32m      4\u001b[0m     \u001b[0mcleaned_firstname\u001b[0m \u001b[0;34m=\u001b[0m \u001b[0;34m[\u001b[0m\u001b[0;34m]\u001b[0m\u001b[0;34m\u001b[0m\u001b[0;34m\u001b[0m\u001b[0m\n\u001b[1;32m      5\u001b[0m     \u001b[0mcleaned_lastname\u001b[0m \u001b[0;34m=\u001b[0m \u001b[0;34m[\u001b[0m\u001b[0;34m]\u001b[0m\u001b[0;34m\u001b[0m\u001b[0;34m\u001b[0m\u001b[0m\n",
      "\u001b[0;31mFileNotFoundError\u001b[0m: [Errno 2] No such file or directory: 'recweekdata.csv'"
     ]
    }
   ],
   "source": [
    "with open('recweekdata.csv','r') as uncleaned:\n",
    "    uncleaned_reader = csv.reader(uncleaned, delimiter = ',')\n",
    "    \n",
    "    cleaned_firstname = [] \n",
    "    cleaned_lastname = []\n",
    "    uncleaned_birthmonth = []\n",
    "    cleaned_birthday = []\n",
    "    uncleaned_birthyear = []\n",
    "    uncleaned_course = []\n",
    "    uncleaned_phonenumber = []\n",
    "    line_count = 0\n",
    "    for row in uncleaned_reader:\n",
    "        if line_count == 0:\n",
    "            pass\n",
    "        else:\n",
    "            cleaned_firstname.append(row[0])\n",
    "            cleaned_lastname.append(row[1])\n",
    "            uncleaned_birthmonth.append(row[2])\n",
    "            cleaned_birthday.append(row[3])\n",
    "            uncleaned_birthyear.append(row[4])\n",
    "            uncleaned_course.append(row[5])\n",
    "            uncleaned_phonenumber.append(row[6])\n",
    "        line_count += 1"
   ]
  },
  {
   "cell_type": "code",
   "execution_count": 1,
   "metadata": {},
   "outputs": [
    {
     "ename": "NameError",
     "evalue": "name 'uncleaned_birthmonth' is not defined",
     "output_type": "error",
     "traceback": [
      "\u001b[0;31m---------------------------------------------------------------------------\u001b[0m",
      "\u001b[0;31mNameError\u001b[0m                                 Traceback (most recent call last)",
      "\u001b[0;32m<ipython-input-1-b815607dbef7>\u001b[0m in \u001b[0;36m<module>\u001b[0;34m\u001b[0m\n\u001b[0;32m----> 1\u001b[0;31m \u001b[0muncleaned_birthmonth\u001b[0m\u001b[0;34m\u001b[0m\u001b[0;34m\u001b[0m\u001b[0m\n\u001b[0m",
      "\u001b[0;31mNameError\u001b[0m: name 'uncleaned_birthmonth' is not defined"
     ]
    }
   ],
   "source": [
    "uncleaned_birthmonth"
   ]
  },
  {
   "cell_type": "code",
   "execution_count": 2,
   "metadata": {},
   "outputs": [],
   "source": [
    " special_birthmonth_dictionary = {'1':'January',\n",
    "                                  '2':'February',\n",
    "                                  '3':'March','4':'April',\n",
    "                                  '5':'May',\n",
    "                                  '6':'June',\n",
    "                                  '7':'July',\n",
    "                             '8':'August',\n",
    "                                  '9':'September',\n",
    "                                  '10':'October',\n",
    "                                  '11':'November',\n",
    "                                  '12':'December',\n",
    "                                  'January':'January',\n",
    "                              'February':'February',\n",
    "                                  'March':'March',\n",
    "                                  'April':'April',\n",
    "                                  'May':'May',\n",
    "                                  'June':'June',\n",
    "                                  'July':'July',\n",
    "                             'August':'August',\n",
    "                                  'September':'September',\n",
    "                                  'October':'October',\n",
    "                                  'November':'November',\n",
    "                              'December':'December',\n",
    "                                  'Jan':'January',\n",
    "                                  'Feb':'February',\n",
    "                                  'Mar':'March',\n",
    "                                  'Apr':'April',\n",
    "                              'May':'May',\n",
    "                                  'Jun':'June',\n",
    "                                  'Jul':'July',\n",
    "                                  'Aug':'August',\n",
    "                                  'Sep':'September',\n",
    "                              'Oct':'October',\n",
    "                                  'Nov':'November',\n",
    "                                  'Dec':'December'}"
   ]
  },
  {
   "cell_type": "code",
   "execution_count": 3,
   "metadata": {},
   "outputs": [
    {
     "ename": "NameError",
     "evalue": "name 'uncleaned_birthmonth' is not defined",
     "output_type": "error",
     "traceback": [
      "\u001b[0;31m---------------------------------------------------------------------------\u001b[0m",
      "\u001b[0;31mNameError\u001b[0m                                 Traceback (most recent call last)",
      "\u001b[0;32m<ipython-input-3-00b7b5ac1c52>\u001b[0m in \u001b[0;36m<module>\u001b[0;34m\u001b[0m\n\u001b[0;32m----> 1\u001b[0;31m \u001b[0mcleaned_birthmonth\u001b[0m \u001b[0;34m=\u001b[0m \u001b[0;34m[\u001b[0m\u001b[0mre\u001b[0m\u001b[0;34m.\u001b[0m\u001b[0msub\u001b[0m\u001b[0;34m(\u001b[0m\u001b[0;34mr''\u001b[0m\u001b[0;34m.\u001b[0m\u001b[0mjoin\u001b[0m\u001b[0;34m(\u001b[0m\u001b[0mmonth\u001b[0m\u001b[0;34m)\u001b[0m\u001b[0;34m,\u001b[0m\u001b[0;34mr''\u001b[0m\u001b[0;34m.\u001b[0m\u001b[0mjoin\u001b[0m\u001b[0;34m(\u001b[0m\u001b[0mspecial_birthmonth_dictionary\u001b[0m\u001b[0;34m[\u001b[0m\u001b[0mmonth\u001b[0m\u001b[0;34m]\u001b[0m\u001b[0;34m)\u001b[0m\u001b[0;34m,\u001b[0m\u001b[0mmonth\u001b[0m\u001b[0;34m)\u001b[0m \u001b[0;32mfor\u001b[0m \u001b[0mmonth\u001b[0m \u001b[0;32min\u001b[0m \u001b[0muncleaned_birthmonth\u001b[0m\u001b[0;34m]\u001b[0m\u001b[0;34m\u001b[0m\u001b[0;34m\u001b[0m\u001b[0m\n\u001b[0m",
      "\u001b[0;31mNameError\u001b[0m: name 'uncleaned_birthmonth' is not defined"
     ]
    }
   ],
   "source": [
    "cleaned_birthmonth = [re.sub(r''.join(month),r''.join(special_birthmonth_dictionary[month]),month) for month in uncleaned_birthmonth]"
   ]
  },
  {
   "cell_type": "code",
   "execution_count": 4,
   "metadata": {},
   "outputs": [
    {
     "ename": "NameError",
     "evalue": "name 'cleaned_birthmonth' is not defined",
     "output_type": "error",
     "traceback": [
      "\u001b[0;31m---------------------------------------------------------------------------\u001b[0m",
      "\u001b[0;31mNameError\u001b[0m                                 Traceback (most recent call last)",
      "\u001b[0;32m<ipython-input-4-9498653be547>\u001b[0m in \u001b[0;36m<module>\u001b[0;34m\u001b[0m\n\u001b[0;32m----> 1\u001b[0;31m \u001b[0mcleaned_birthmonth\u001b[0m\u001b[0;34m\u001b[0m\u001b[0;34m\u001b[0m\u001b[0m\n\u001b[0m",
      "\u001b[0;31mNameError\u001b[0m: name 'cleaned_birthmonth' is not defined"
     ]
    }
   ],
   "source": [
    "cleaned_birthmonth"
   ]
  },
  {
   "cell_type": "code",
   "execution_count": 5,
   "metadata": {},
   "outputs": [],
   "source": [
    "special_birthyear_dictionary = {'97':'1997',\n",
    "                                '98':'1998',\n",
    "                                '99':'1999',\n",
    "                                '00':'2000',\n",
    "                                '01':'2001',\n",
    "                                '1997':'1997',\n",
    "                                '1998':'1998',\n",
    "                             '1999':'1999',\n",
    "                                '2000':'2000',\n",
    "                                '2001':'2001'}"
   ]
  },
  {
   "cell_type": "code",
   "execution_count": 6,
   "metadata": {},
   "outputs": [
    {
     "ename": "NameError",
     "evalue": "name 'uncleaned_birthyear' is not defined",
     "output_type": "error",
     "traceback": [
      "\u001b[0;31m---------------------------------------------------------------------------\u001b[0m",
      "\u001b[0;31mNameError\u001b[0m                                 Traceback (most recent call last)",
      "\u001b[0;32m<ipython-input-6-d5b692ae4bee>\u001b[0m in \u001b[0;36m<module>\u001b[0;34m\u001b[0m\n\u001b[0;32m----> 1\u001b[0;31m \u001b[0mcleaned_birthyear\u001b[0m \u001b[0;34m=\u001b[0m \u001b[0;34m[\u001b[0m\u001b[0mre\u001b[0m\u001b[0;34m.\u001b[0m\u001b[0msub\u001b[0m\u001b[0;34m(\u001b[0m\u001b[0;34mr''\u001b[0m\u001b[0;34m.\u001b[0m\u001b[0mjoin\u001b[0m\u001b[0;34m(\u001b[0m\u001b[0myear\u001b[0m\u001b[0;34m)\u001b[0m\u001b[0;34m,\u001b[0m\u001b[0;34mr''\u001b[0m\u001b[0;34m.\u001b[0m\u001b[0mjoin\u001b[0m\u001b[0;34m(\u001b[0m\u001b[0mspecial_birthyear_dictionary\u001b[0m\u001b[0;34m[\u001b[0m\u001b[0myear\u001b[0m\u001b[0;34m]\u001b[0m\u001b[0;34m)\u001b[0m\u001b[0;34m,\u001b[0m\u001b[0myear\u001b[0m\u001b[0;34m)\u001b[0m \u001b[0;32mfor\u001b[0m \u001b[0myear\u001b[0m \u001b[0;32min\u001b[0m \u001b[0muncleaned_birthyear\u001b[0m\u001b[0;34m]\u001b[0m\u001b[0;34m\u001b[0m\u001b[0;34m\u001b[0m\u001b[0m\n\u001b[0m",
      "\u001b[0;31mNameError\u001b[0m: name 'uncleaned_birthyear' is not defined"
     ]
    }
   ],
   "source": [
    " cleaned_birthyear = [re.sub(r''.join(year),r''.join(special_birthyear_dictionary[year]),year) for year in uncleaned_birthyear]"
   ]
  },
  {
   "cell_type": "code",
   "execution_count": 7,
   "metadata": {},
   "outputs": [
    {
     "ename": "NameError",
     "evalue": "name 'cleaned_birthyear' is not defined",
     "output_type": "error",
     "traceback": [
      "\u001b[0;31m---------------------------------------------------------------------------\u001b[0m",
      "\u001b[0;31mNameError\u001b[0m                                 Traceback (most recent call last)",
      "\u001b[0;32m<ipython-input-7-c3c39e29e1f4>\u001b[0m in \u001b[0;36m<module>\u001b[0;34m\u001b[0m\n\u001b[0;32m----> 1\u001b[0;31m \u001b[0mcleaned_birthyear\u001b[0m\u001b[0;34m\u001b[0m\u001b[0;34m\u001b[0m\u001b[0m\n\u001b[0m",
      "\u001b[0;31mNameError\u001b[0m: name 'cleaned_birthyear' is not defined"
     ]
    }
   ],
   "source": [
    "cleaned_birthyear"
   ]
  },
  {
   "cell_type": "code",
   "execution_count": 8,
   "metadata": {},
   "outputs": [],
   "source": [
    "special_course_dictionary = {'ME': 'BS Management Engineering',\n",
    "                      'BS LM': 'BS Legal Management',\n",
    "                      'MGT': 'BS Management',\n",
    "                      'Communications Technology': 'BS Communications Technology Management',\n",
    "                      'BS MGT': 'BS Management',\n",
    "                      'Information Technology Entrepreneurship': 'BS Information Technology Entrepreneurship',\n",
    "                         'BS CTM': 'BS Communications Technology Management',\n",
    "                      'ITE': 'BS Information Technology Entrepreneurship',\n",
    "                         'BS ITE': 'BS Information Technology Entrepreneurship',\n",
    "                      'Management': 'BS Management',\n",
    "                         'CTM': 'BS Communications Technology Management',\n",
    "                      'LM': 'BS Legal Management',\n",
    "                      'Legal Management': 'BS Legal Management',\n",
    "                         'BS ME': 'BS Management Engineering',\n",
    "                      'Management Engineering': 'BS Management Engineering'}"
   ]
  },
  {
   "cell_type": "code",
   "execution_count": 9,
   "metadata": {},
   "outputs": [
    {
     "ename": "NameError",
     "evalue": "name 'uncleaned_course' is not defined",
     "output_type": "error",
     "traceback": [
      "\u001b[0;31m---------------------------------------------------------------------------\u001b[0m",
      "\u001b[0;31mNameError\u001b[0m                                 Traceback (most recent call last)",
      "\u001b[0;32m<ipython-input-9-8e20682551ae>\u001b[0m in \u001b[0;36m<module>\u001b[0;34m\u001b[0m\n\u001b[0;32m----> 1\u001b[0;31m \u001b[0mcleaned_course\u001b[0m \u001b[0;34m=\u001b[0m \u001b[0mclean_course\u001b[0m \u001b[0;34m=\u001b[0m \u001b[0;34m[\u001b[0m\u001b[0mre\u001b[0m\u001b[0;34m.\u001b[0m\u001b[0msub\u001b[0m\u001b[0;34m(\u001b[0m\u001b[0;34mr''\u001b[0m\u001b[0;34m.\u001b[0m\u001b[0mjoin\u001b[0m\u001b[0;34m(\u001b[0m\u001b[0mcourse\u001b[0m\u001b[0;34m)\u001b[0m\u001b[0;34m,\u001b[0m\u001b[0;34mr''\u001b[0m\u001b[0;34m.\u001b[0m\u001b[0mjoin\u001b[0m\u001b[0;34m(\u001b[0m\u001b[0munique_course_dict\u001b[0m\u001b[0;34m[\u001b[0m\u001b[0mcourse\u001b[0m\u001b[0;34m]\u001b[0m\u001b[0;34m)\u001b[0m\u001b[0;34m,\u001b[0m\u001b[0mcourse\u001b[0m\u001b[0;34m)\u001b[0m \u001b[0;32mfor\u001b[0m \u001b[0mcourse\u001b[0m \u001b[0;32min\u001b[0m \u001b[0muncleaned_course\u001b[0m\u001b[0;34m]\u001b[0m\u001b[0;34m\u001b[0m\u001b[0;34m\u001b[0m\u001b[0m\n\u001b[0m",
      "\u001b[0;31mNameError\u001b[0m: name 'uncleaned_course' is not defined"
     ]
    }
   ],
   "source": [
    "cleaned_course = clean_course = [re.sub(r''.join(course),r''.join(unique_course_dict[course]),course) for course in uncleaned_course]"
   ]
  },
  {
   "cell_type": "code",
   "execution_count": 10,
   "metadata": {},
   "outputs": [
    {
     "ename": "NameError",
     "evalue": "name 'cleaned_course' is not defined",
     "output_type": "error",
     "traceback": [
      "\u001b[0;31m---------------------------------------------------------------------------\u001b[0m",
      "\u001b[0;31mNameError\u001b[0m                                 Traceback (most recent call last)",
      "\u001b[0;32m<ipython-input-10-c3aa743f1eee>\u001b[0m in \u001b[0;36m<module>\u001b[0;34m\u001b[0m\n\u001b[0;32m----> 1\u001b[0;31m \u001b[0mcleaned_course\u001b[0m\u001b[0;34m\u001b[0m\u001b[0;34m\u001b[0m\u001b[0m\n\u001b[0m",
      "\u001b[0;31mNameError\u001b[0m: name 'cleaned_course' is not defined"
     ]
    }
   ],
   "source": [
    "cleaned_course"
   ]
  },
  {
   "cell_type": "code",
   "execution_count": 11,
   "metadata": {},
   "outputs": [
    {
     "ename": "NameError",
     "evalue": "name 'uncleaned_phonenumber' is not defined",
     "output_type": "error",
     "traceback": [
      "\u001b[0;31m---------------------------------------------------------------------------\u001b[0m",
      "\u001b[0;31mNameError\u001b[0m                                 Traceback (most recent call last)",
      "\u001b[0;32m<ipython-input-11-4d4d851f2158>\u001b[0m in \u001b[0;36m<module>\u001b[0;34m\u001b[0m\n\u001b[0;32m----> 1\u001b[0;31m \u001b[0mdrafted_cleaned_phonenumber\u001b[0m \u001b[0;34m=\u001b[0m \u001b[0;34m[\u001b[0m\u001b[0mre\u001b[0m\u001b[0;34m.\u001b[0m\u001b[0msub\u001b[0m\u001b[0;34m(\u001b[0m\u001b[0;34mr'^(9[0-9][0-9])'\u001b[0m\u001b[0;34m,\u001b[0m\u001b[0;34mr'+63 \\1'\u001b[0m\u001b[0;34m,\u001b[0m\u001b[0mnumber\u001b[0m\u001b[0;34m)\u001b[0m \u001b[0;32mfor\u001b[0m \u001b[0mnumber\u001b[0m \u001b[0;32min\u001b[0m \u001b[0muncleaned_phonenumber\u001b[0m\u001b[0;34m]\u001b[0m\u001b[0;34m\u001b[0m\u001b[0;34m\u001b[0m\u001b[0m\n\u001b[0m\u001b[1;32m      2\u001b[0m \u001b[0mcleaned_phonenumber\u001b[0m \u001b[0;34m=\u001b[0m \u001b[0;34m[\u001b[0m\u001b[0;34m]\u001b[0m\u001b[0;34m\u001b[0m\u001b[0;34m\u001b[0m\u001b[0m\n\u001b[1;32m      3\u001b[0m \u001b[0;32mfor\u001b[0m \u001b[0mnumber\u001b[0m \u001b[0;32min\u001b[0m \u001b[0mdrafted_cleaned_phonenumber\u001b[0m\u001b[0;34m:\u001b[0m\u001b[0;34m\u001b[0m\u001b[0;34m\u001b[0m\u001b[0m\n\u001b[1;32m      4\u001b[0m         \u001b[0mcleaned_phonenumber\u001b[0m\u001b[0;34m.\u001b[0m\u001b[0mappend\u001b[0m\u001b[0;34m(\u001b[0m\u001b[0mnumber\u001b[0m\u001b[0;34m.\u001b[0m\u001b[0mreplace\u001b[0m\u001b[0;34m(\u001b[0m\u001b[0;34m\" \"\u001b[0m\u001b[0;34m,\u001b[0m\u001b[0;34m\"\"\u001b[0m\u001b[0;34m)\u001b[0m\u001b[0;34m)\u001b[0m\u001b[0;34m\u001b[0m\u001b[0;34m\u001b[0m\u001b[0m\n",
      "\u001b[0;31mNameError\u001b[0m: name 'uncleaned_phonenumber' is not defined"
     ]
    }
   ],
   "source": [
    "drafted_cleaned_phonenumber = [re.sub(r'^(9[0-9][0-9])',r'+63 \\1',number) for number in uncleaned_phonenumber]\n",
    "cleaned_phonenumber = []\n",
    "for number in drafted_cleaned_phonenumber:\n",
    "        cleaned_phonenumber.append(number.replace(\" \",\"\"))"
   ]
  },
  {
   "cell_type": "code",
   "execution_count": 12,
   "metadata": {},
   "outputs": [
    {
     "ename": "NameError",
     "evalue": "name 'cleaned_phonenumber' is not defined",
     "output_type": "error",
     "traceback": [
      "\u001b[0;31m---------------------------------------------------------------------------\u001b[0m",
      "\u001b[0;31mNameError\u001b[0m                                 Traceback (most recent call last)",
      "\u001b[0;32m<ipython-input-12-826f12c23950>\u001b[0m in \u001b[0;36m<module>\u001b[0;34m\u001b[0m\n\u001b[0;32m----> 1\u001b[0;31m \u001b[0mcleaned_phonenumber\u001b[0m\u001b[0;34m\u001b[0m\u001b[0;34m\u001b[0m\u001b[0m\n\u001b[0m",
      "\u001b[0;31mNameError\u001b[0m: name 'cleaned_phonenumber' is not defined"
     ]
    }
   ],
   "source": [
    "cleaned_phonenumber"
   ]
  },
  {
   "cell_type": "code",
   "execution_count": 13,
   "metadata": {},
   "outputs": [
    {
     "ename": "NameError",
     "evalue": "name 'cleaned_firstname' is not defined",
     "output_type": "error",
     "traceback": [
      "\u001b[0;31m---------------------------------------------------------------------------\u001b[0m",
      "\u001b[0;31mNameError\u001b[0m                                 Traceback (most recent call last)",
      "\u001b[0;32m<ipython-input-13-2ba3a71d72b8>\u001b[0m in \u001b[0;36m<module>\u001b[0;34m\u001b[0m\n\u001b[0;32m----> 1\u001b[0;31m \u001b[0mcleaned_lists\u001b[0m \u001b[0;34m=\u001b[0m \u001b[0mlist\u001b[0m\u001b[0;34m(\u001b[0m\u001b[0mzip\u001b[0m\u001b[0;34m(\u001b[0m\u001b[0mcleaned_firstname\u001b[0m\u001b[0;34m,\u001b[0m\u001b[0mcleaned_lastname\u001b[0m\u001b[0;34m,\u001b[0m\u001b[0mcleaned_birthmonth\u001b[0m\u001b[0;34m,\u001b[0m\u001b[0mcleaned_birthday\u001b[0m\u001b[0;34m,\u001b[0m\u001b[0mcleaned_birthyear\u001b[0m\u001b[0;34m,\u001b[0m\u001b[0mcleaned_course\u001b[0m\u001b[0;34m,\u001b[0m\u001b[0mcleaned_phonenumber\u001b[0m\u001b[0;34m)\u001b[0m\u001b[0;34m)\u001b[0m\u001b[0;34m\u001b[0m\u001b[0;34m\u001b[0m\u001b[0m\n\u001b[0m",
      "\u001b[0;31mNameError\u001b[0m: name 'cleaned_firstname' is not defined"
     ]
    }
   ],
   "source": [
    "cleaned_lists = list(zip(cleaned_firstname,cleaned_lastname,cleaned_birthmonth,cleaned_birthday,cleaned_birthyear,cleaned_course,cleaned_phonenumber))"
   ]
  },
  {
   "cell_type": "code",
   "execution_count": 14,
   "metadata": {},
   "outputs": [
    {
     "ename": "NameError",
     "evalue": "name 'csv' is not defined",
     "output_type": "error",
     "traceback": [
      "\u001b[0;31m---------------------------------------------------------------------------\u001b[0m",
      "\u001b[0;31mNameError\u001b[0m                                 Traceback (most recent call last)",
      "\u001b[0;32m<ipython-input-14-3fcbc9198f29>\u001b[0m in \u001b[0;36m<module>\u001b[0;34m\u001b[0m\n\u001b[1;32m      1\u001b[0m \u001b[0;32mwith\u001b[0m \u001b[0mopen\u001b[0m\u001b[0;34m(\u001b[0m\u001b[0;34m'cleanrecweekdata.csv'\u001b[0m\u001b[0;34m,\u001b[0m\u001b[0;34m'w'\u001b[0m\u001b[0;34m)\u001b[0m \u001b[0;32mas\u001b[0m \u001b[0mcleaned\u001b[0m\u001b[0;34m:\u001b[0m\u001b[0;34m\u001b[0m\u001b[0;34m\u001b[0m\u001b[0m\n\u001b[0;32m----> 2\u001b[0;31m     \u001b[0mcleaned_writer\u001b[0m \u001b[0;34m=\u001b[0m \u001b[0mcsv\u001b[0m\u001b[0;34m.\u001b[0m\u001b[0mwriter\u001b[0m\u001b[0;34m(\u001b[0m\u001b[0mcleaned\u001b[0m\u001b[0;34m,\u001b[0m\u001b[0mlineterminator\u001b[0m\u001b[0;34m=\u001b[0m\u001b[0;34m'\\n'\u001b[0m\u001b[0;34m)\u001b[0m\u001b[0;34m\u001b[0m\u001b[0;34m\u001b[0m\u001b[0m\n\u001b[0m\u001b[1;32m      3\u001b[0m     \u001b[0mcleaned\u001b[0m\u001b[0;34m.\u001b[0m\u001b[0mwrite\u001b[0m\u001b[0;34m(\u001b[0m\u001b[0;34m'firstname,lastname,birthmonth,birthday,birthyear,course,phonenumber\\n'\u001b[0m\u001b[0;34m)\u001b[0m\u001b[0;34m\u001b[0m\u001b[0;34m\u001b[0m\u001b[0m\n\u001b[1;32m      4\u001b[0m     \u001b[0mcleaned_writer\u001b[0m\u001b[0;34m.\u001b[0m\u001b[0mwriterows\u001b[0m\u001b[0;34m(\u001b[0m\u001b[0mcleaned_lists\u001b[0m\u001b[0;34m)\u001b[0m\u001b[0;34m\u001b[0m\u001b[0;34m\u001b[0m\u001b[0m\n",
      "\u001b[0;31mNameError\u001b[0m: name 'csv' is not defined"
     ]
    }
   ],
   "source": [
    "with open('cleanrecweekdata.csv','w') as cleaned:\n",
    "    cleaned_writer = csv.writer(cleaned,lineterminator='\\n')\n",
    "    cleaned.write('firstname,lastname,birthmonth,birthday,birthyear,course,phonenumber\\n')\n",
    "    cleaned_writer.writerows(cleaned_lists)"
   ]
  },
  {
   "cell_type": "code",
   "execution_count": null,
   "metadata": {},
   "outputs": [],
   "source": []
  },
  {
   "cell_type": "markdown",
   "metadata": {},
   "source": [
    "# Required Summary Statistics\n",
    "1. How many people were born in each month?\n",
    "2. How many people were born on each day?\n",
    "3. How many people were born in each year?\n",
    "4. How many people come from each course?\n",
    "5. How many people have numbers from Globe (0917 or 0927) and Smart (0918)? *Note: it's up to you how to format this output*\n",
    "\n",
    "Answer these questions in an html file called stats.html. The format of the html is as follows (in template form, so you can use this as format string in your program, though feel free to modify with variable names if you find it easier to do so):\n"
   ]
  },
  {
   "cell_type": "markdown",
   "metadata": {},
   "source": [
    "```\n",
    "<html>\n",
    "    <body>\n",
    "         <h2>Summary Statistics</h2>\n",
    "         <table>\n",
    "             <tr><th>Stat</th><th>Value</th></tr>\n",
    "             <tr><td>People born in each month</td><td>{}</td></tr>\n",
    "             <tr><td>People born on each day</td><td>{}</td></tr>\n",
    "             <tr><td>People born in each year</td><td>{}</td></tr>\n",
    "             <tr><td>People coming from each course</td><td>{}</td></tr>\n",
    "             <tr><td>People having numbers from Globe and Smart</td><td>{}</td></tr>\n",
    "         </table>\n",
    "    </body>\n",
    "</html>\n",
    "```"
   ]
  },
  {
   "cell_type": "code",
   "execution_count": 15,
   "metadata": {},
   "outputs": [
    {
     "ename": "NameError",
     "evalue": "name 'cleaned_birthmonth' is not defined",
     "output_type": "error",
     "traceback": [
      "\u001b[0;31m---------------------------------------------------------------------------\u001b[0m",
      "\u001b[0;31mNameError\u001b[0m                                 Traceback (most recent call last)",
      "\u001b[0;32m<ipython-input-15-053d6afe9e92>\u001b[0m in \u001b[0;36m<module>\u001b[0;34m\u001b[0m\n\u001b[0;32m----> 1\u001b[0;31m \u001b[0mjanuary\u001b[0m \u001b[0;34m=\u001b[0m \u001b[0mcleaned_birthmonth\u001b[0m\u001b[0;34m.\u001b[0m\u001b[0mcount\u001b[0m\u001b[0;34m(\u001b[0m\u001b[0;34m'January'\u001b[0m\u001b[0;34m)\u001b[0m\u001b[0;34m\u001b[0m\u001b[0;34m\u001b[0m\u001b[0m\n\u001b[0m\u001b[1;32m      2\u001b[0m \u001b[0mfebruary\u001b[0m \u001b[0;34m=\u001b[0m \u001b[0mcleaned_birthmonth\u001b[0m\u001b[0;34m.\u001b[0m\u001b[0mcount\u001b[0m\u001b[0;34m(\u001b[0m\u001b[0;34m'February'\u001b[0m\u001b[0;34m)\u001b[0m\u001b[0;34m\u001b[0m\u001b[0;34m\u001b[0m\u001b[0m\n\u001b[1;32m      3\u001b[0m \u001b[0mmarch\u001b[0m \u001b[0;34m=\u001b[0m \u001b[0mcleaned_birthmonth\u001b[0m\u001b[0;34m.\u001b[0m\u001b[0mcount\u001b[0m\u001b[0;34m(\u001b[0m\u001b[0;34m'March'\u001b[0m\u001b[0;34m)\u001b[0m\u001b[0;34m\u001b[0m\u001b[0;34m\u001b[0m\u001b[0m\n\u001b[1;32m      4\u001b[0m \u001b[0mapril\u001b[0m \u001b[0;34m=\u001b[0m \u001b[0mcleaned_birthmonth\u001b[0m\u001b[0;34m.\u001b[0m\u001b[0mcount\u001b[0m\u001b[0;34m(\u001b[0m\u001b[0;34m'April'\u001b[0m\u001b[0;34m)\u001b[0m\u001b[0;34m\u001b[0m\u001b[0;34m\u001b[0m\u001b[0m\n\u001b[1;32m      5\u001b[0m \u001b[0mmay\u001b[0m \u001b[0;34m=\u001b[0m \u001b[0mcleaned_birthmonth\u001b[0m\u001b[0;34m.\u001b[0m\u001b[0mcount\u001b[0m\u001b[0;34m(\u001b[0m\u001b[0;34m'May'\u001b[0m\u001b[0;34m)\u001b[0m\u001b[0;34m\u001b[0m\u001b[0;34m\u001b[0m\u001b[0m\n",
      "\u001b[0;31mNameError\u001b[0m: name 'cleaned_birthmonth' is not defined"
     ]
    }
   ],
   "source": [
    "january = cleaned_birthmonth.count('January')\n",
    "february = cleaned_birthmonth.count('February')\n",
    "march = cleaned_birthmonth.count('March')\n",
    "april = cleaned_birthmonth.count('April')\n",
    "may = cleaned_birthmonth.count('May')\n",
    "june = cleaned_birthmonth.count('June')\n",
    "july = cleaned_birthmonth.count('July')\n",
    "august = cleaned_birthmonth.count('August')\n",
    "september = cleaned_birthmonth.count('September')\n",
    "october = cleaned_birthmonth.count('October')\n",
    "november = cleaned_birthmonth.count('November')\n",
    "december = cleaned_birthmonth.count('December')"
   ]
  },
  {
   "cell_type": "code",
   "execution_count": 16,
   "metadata": {},
   "outputs": [
    {
     "ename": "NameError",
     "evalue": "name 'cleaned_birthday' is not defined",
     "output_type": "error",
     "traceback": [
      "\u001b[0;31m---------------------------------------------------------------------------\u001b[0m",
      "\u001b[0;31mNameError\u001b[0m                                 Traceback (most recent call last)",
      "\u001b[0;32m<ipython-input-16-b2a91d682bb7>\u001b[0m in \u001b[0;36m<module>\u001b[0;34m\u001b[0m\n\u001b[0;32m----> 1\u001b[0;31m \u001b[0msummary1\u001b[0m \u001b[0;34m=\u001b[0m \u001b[0mcleaned_birthday\u001b[0m\u001b[0;34m.\u001b[0m\u001b[0mcount\u001b[0m\u001b[0;34m(\u001b[0m\u001b[0;34m'1'\u001b[0m\u001b[0;34m)\u001b[0m\u001b[0;34m\u001b[0m\u001b[0;34m\u001b[0m\u001b[0m\n\u001b[0m\u001b[1;32m      2\u001b[0m \u001b[0msummary2\u001b[0m \u001b[0;34m=\u001b[0m \u001b[0mcleaned_birthday\u001b[0m\u001b[0;34m.\u001b[0m\u001b[0mcount\u001b[0m\u001b[0;34m(\u001b[0m\u001b[0;34m'2'\u001b[0m\u001b[0;34m)\u001b[0m\u001b[0;34m\u001b[0m\u001b[0;34m\u001b[0m\u001b[0m\n\u001b[1;32m      3\u001b[0m \u001b[0msummary3\u001b[0m \u001b[0;34m=\u001b[0m \u001b[0mcleaned_birthday\u001b[0m\u001b[0;34m.\u001b[0m\u001b[0mcount\u001b[0m\u001b[0;34m(\u001b[0m\u001b[0;34m'3'\u001b[0m\u001b[0;34m)\u001b[0m\u001b[0;34m\u001b[0m\u001b[0;34m\u001b[0m\u001b[0m\n\u001b[1;32m      4\u001b[0m \u001b[0msummary4\u001b[0m \u001b[0;34m=\u001b[0m \u001b[0mcleaned_birthday\u001b[0m\u001b[0;34m.\u001b[0m\u001b[0mcount\u001b[0m\u001b[0;34m(\u001b[0m\u001b[0;34m'4'\u001b[0m\u001b[0;34m)\u001b[0m\u001b[0;34m\u001b[0m\u001b[0;34m\u001b[0m\u001b[0m\n\u001b[1;32m      5\u001b[0m \u001b[0msummary5\u001b[0m \u001b[0;34m=\u001b[0m \u001b[0mcleaned_birthday\u001b[0m\u001b[0;34m.\u001b[0m\u001b[0mcount\u001b[0m\u001b[0;34m(\u001b[0m\u001b[0;34m'5'\u001b[0m\u001b[0;34m)\u001b[0m\u001b[0;34m\u001b[0m\u001b[0;34m\u001b[0m\u001b[0m\n",
      "\u001b[0;31mNameError\u001b[0m: name 'cleaned_birthday' is not defined"
     ]
    }
   ],
   "source": [
    "summary1 = cleaned_birthday.count('1')\n",
    "summary2 = cleaned_birthday.count('2')\n",
    "summary3 = cleaned_birthday.count('3')\n",
    "summary4 = cleaned_birthday.count('4')\n",
    "summary5 = cleaned_birthday.count('5')\n",
    "summary6 = cleaned_birthday.count('6')\n",
    "summary7 = cleaned_birthday.count('7')\n",
    "summary8 = cleaned_birthday.count('8')\n",
    "summary9 = cleaned_birthday.count('9')\n",
    "summary10 = cleaned_birthday.count('10')\n",
    "summary11 = cleaned_birthday.count('11')\n",
    "summary12 = cleaned_birthday.count('12')\n",
    "summary13 = cleaned_birthday.count('13')\n",
    "summary14 = cleaned_birthday.count('14')\n",
    "summary15 = cleaned_birthday.count('15')\n",
    "summary16 = cleaned_birthday.count('16')\n",
    "summary17 = cleaned_birthday.count('17')\n",
    "summary18 = cleaned_birthday.count('18')\n",
    "summary19 = cleaned_birthday.count('19')\n",
    "summary20 = cleaned_birthday.count('20')\n",
    "summary21 = cleaned_birthday.count('21')\n",
    "summary22 = cleaned_birthday.count('22')\n",
    "summary23 = cleaned_birthday.count('23')\n",
    "summary24 = cleaned_birthday.count('24')\n",
    "summary25 = cleaned_birthday.count('25')\n",
    "summary26 = cleaned_birthday.count('26')\n",
    "summary27 = cleaned_birthday.count('27')\n",
    "summary28 = cleaned_birthday.count('28')\n",
    "summary29 = cleaned_birthday.count('29')\n",
    "summary30 = cleaned_birthday.count('30')"
   ]
  },
  {
   "cell_type": "code",
   "execution_count": 17,
   "metadata": {},
   "outputs": [
    {
     "ename": "NameError",
     "evalue": "name 'cleaned_birthyear' is not defined",
     "output_type": "error",
     "traceback": [
      "\u001b[0;31m---------------------------------------------------------------------------\u001b[0m",
      "\u001b[0;31mNameError\u001b[0m                                 Traceback (most recent call last)",
      "\u001b[0;32m<ipython-input-17-37551a0ca4cb>\u001b[0m in \u001b[0;36m<module>\u001b[0;34m\u001b[0m\n\u001b[0;32m----> 1\u001b[0;31m \u001b[0msummary97\u001b[0m \u001b[0;34m=\u001b[0m \u001b[0mcleaned_birthyear\u001b[0m\u001b[0;34m.\u001b[0m\u001b[0mcount\u001b[0m\u001b[0;34m(\u001b[0m\u001b[0;34m'1997'\u001b[0m\u001b[0;34m)\u001b[0m\u001b[0;34m\u001b[0m\u001b[0;34m\u001b[0m\u001b[0m\n\u001b[0m\u001b[1;32m      2\u001b[0m \u001b[0msummary98\u001b[0m \u001b[0;34m=\u001b[0m \u001b[0mcleaned_birthyear\u001b[0m\u001b[0;34m.\u001b[0m\u001b[0mcount\u001b[0m\u001b[0;34m(\u001b[0m\u001b[0;34m'1998'\u001b[0m\u001b[0;34m)\u001b[0m\u001b[0;34m\u001b[0m\u001b[0;34m\u001b[0m\u001b[0m\n\u001b[1;32m      3\u001b[0m \u001b[0msummary99\u001b[0m \u001b[0;34m=\u001b[0m \u001b[0mcleaned_birthyear\u001b[0m\u001b[0;34m.\u001b[0m\u001b[0mcount\u001b[0m\u001b[0;34m(\u001b[0m\u001b[0;34m'1999'\u001b[0m\u001b[0;34m)\u001b[0m\u001b[0;34m\u001b[0m\u001b[0;34m\u001b[0m\u001b[0m\n\u001b[1;32m      4\u001b[0m \u001b[0msummary00\u001b[0m \u001b[0;34m=\u001b[0m \u001b[0mcleaned_birthyear\u001b[0m\u001b[0;34m.\u001b[0m\u001b[0mcount\u001b[0m\u001b[0;34m(\u001b[0m\u001b[0;34m'2000'\u001b[0m\u001b[0;34m)\u001b[0m\u001b[0;34m\u001b[0m\u001b[0;34m\u001b[0m\u001b[0m\n\u001b[1;32m      5\u001b[0m \u001b[0msummary01\u001b[0m \u001b[0;34m=\u001b[0m \u001b[0mcleaned_birthyear\u001b[0m\u001b[0;34m.\u001b[0m\u001b[0mcount\u001b[0m\u001b[0;34m(\u001b[0m\u001b[0;34m'2001'\u001b[0m\u001b[0;34m)\u001b[0m\u001b[0;34m\u001b[0m\u001b[0;34m\u001b[0m\u001b[0m\n",
      "\u001b[0;31mNameError\u001b[0m: name 'cleaned_birthyear' is not defined"
     ]
    }
   ],
   "source": [
    "summary97 = cleaned_birthyear.count('1997')\n",
    "summary98 = cleaned_birthyear.count('1998')\n",
    "summary99 = cleaned_birthyear.count('1999')\n",
    "summary00 = cleaned_birthyear.count('2000')\n",
    "summary01 = cleaned_birthyear.count('2001')"
   ]
  },
  {
   "cell_type": "code",
   "execution_count": 18,
   "metadata": {},
   "outputs": [
    {
     "ename": "NameError",
     "evalue": "name 'cleaned_course' is not defined",
     "output_type": "error",
     "traceback": [
      "\u001b[0;31m---------------------------------------------------------------------------\u001b[0m",
      "\u001b[0;31mNameError\u001b[0m                                 Traceback (most recent call last)",
      "\u001b[0;32m<ipython-input-18-2d6609863c39>\u001b[0m in \u001b[0;36m<module>\u001b[0;34m\u001b[0m\n\u001b[0;32m----> 1\u001b[0;31m \u001b[0msummary_ctm\u001b[0m \u001b[0;34m=\u001b[0m \u001b[0mcleaned_course\u001b[0m\u001b[0;34m.\u001b[0m\u001b[0mcount\u001b[0m\u001b[0;34m(\u001b[0m\u001b[0;34m'BS Communications Technology Management'\u001b[0m\u001b[0;34m)\u001b[0m\u001b[0;34m\u001b[0m\u001b[0;34m\u001b[0m\u001b[0m\n\u001b[0m\u001b[1;32m      2\u001b[0m \u001b[0msummary_ite\u001b[0m \u001b[0;34m=\u001b[0m \u001b[0mcleaned_course\u001b[0m\u001b[0;34m.\u001b[0m\u001b[0mcount\u001b[0m\u001b[0;34m(\u001b[0m\u001b[0;34m'BS Information Technology Entrepreneurship'\u001b[0m\u001b[0;34m)\u001b[0m\u001b[0;34m\u001b[0m\u001b[0;34m\u001b[0m\u001b[0m\n\u001b[1;32m      3\u001b[0m \u001b[0msummary_lm\u001b[0m \u001b[0;34m=\u001b[0m \u001b[0mcleaned_course\u001b[0m\u001b[0;34m.\u001b[0m\u001b[0mcount\u001b[0m\u001b[0;34m(\u001b[0m\u001b[0;34m'BS Legal Management'\u001b[0m\u001b[0;34m)\u001b[0m\u001b[0;34m\u001b[0m\u001b[0;34m\u001b[0m\u001b[0m\n\u001b[1;32m      4\u001b[0m \u001b[0msummary_mgt\u001b[0m \u001b[0;34m=\u001b[0m \u001b[0mcleaned_course\u001b[0m\u001b[0;34m.\u001b[0m\u001b[0mcount\u001b[0m\u001b[0;34m(\u001b[0m\u001b[0;34m'BS Management'\u001b[0m\u001b[0;34m)\u001b[0m\u001b[0;34m\u001b[0m\u001b[0;34m\u001b[0m\u001b[0m\n\u001b[1;32m      5\u001b[0m \u001b[0msummary_me\u001b[0m \u001b[0;34m=\u001b[0m \u001b[0mcleaned_course\u001b[0m\u001b[0;34m.\u001b[0m\u001b[0mcount\u001b[0m\u001b[0;34m(\u001b[0m\u001b[0;34m'BS Management Engineering'\u001b[0m\u001b[0;34m)\u001b[0m\u001b[0;34m\u001b[0m\u001b[0;34m\u001b[0m\u001b[0m\n",
      "\u001b[0;31mNameError\u001b[0m: name 'cleaned_course' is not defined"
     ]
    }
   ],
   "source": [
    "summary_ctm = cleaned_course.count('BS Communications Technology Management')\n",
    "summary_ite = cleaned_course.count('BS Information Technology Entrepreneurship')\n",
    "summary_lm = cleaned_course.count('BS Legal Management')\n",
    "summary_mgt = cleaned_course.count('BS Management')\n",
    "summary_me = cleaned_course.count('BS Management Engineering')"
   ]
  },
  {
   "cell_type": "code",
   "execution_count": 19,
   "metadata": {},
   "outputs": [
    {
     "ename": "NameError",
     "evalue": "name 'cleaned_phonenumber' is not defined",
     "output_type": "error",
     "traceback": [
      "\u001b[0;31m---------------------------------------------------------------------------\u001b[0m",
      "\u001b[0;31mNameError\u001b[0m                                 Traceback (most recent call last)",
      "\u001b[0;32m<ipython-input-19-8ba65186b7de>\u001b[0m in \u001b[0;36m<module>\u001b[0;34m\u001b[0m\n\u001b[1;32m      2\u001b[0m \u001b[0msummary_smart\u001b[0m \u001b[0;34m=\u001b[0m \u001b[0;36m0\u001b[0m\u001b[0;34m\u001b[0m\u001b[0;34m\u001b[0m\u001b[0m\n\u001b[1;32m      3\u001b[0m \u001b[0;34m\u001b[0m\u001b[0m\n\u001b[0;32m----> 4\u001b[0;31m \u001b[0;32mfor\u001b[0m \u001b[0mnumber\u001b[0m \u001b[0;32min\u001b[0m \u001b[0mcleaned_phonenumber\u001b[0m\u001b[0;34m:\u001b[0m\u001b[0;34m\u001b[0m\u001b[0;34m\u001b[0m\u001b[0m\n\u001b[0m\u001b[1;32m      5\u001b[0m     \u001b[0;32mif\u001b[0m \u001b[0;34m'+63917'\u001b[0m \u001b[0;32min\u001b[0m \u001b[0mnumber\u001b[0m\u001b[0;34m:\u001b[0m\u001b[0;34m\u001b[0m\u001b[0;34m\u001b[0m\u001b[0m\n\u001b[1;32m      6\u001b[0m         \u001b[0msummary_globe\u001b[0m \u001b[0;34m+=\u001b[0m \u001b[0;36m1\u001b[0m\u001b[0;34m\u001b[0m\u001b[0;34m\u001b[0m\u001b[0m\n",
      "\u001b[0;31mNameError\u001b[0m: name 'cleaned_phonenumber' is not defined"
     ]
    }
   ],
   "source": [
    "summary_globe = 0\n",
    "summary_smart = 0\n",
    "\n",
    "for number in cleaned_phonenumber:\n",
    "    if '+63917' in number:\n",
    "        summary_globe += 1\n",
    "    elif '+63927' in number:\n",
    "        summary_globe += 1\n",
    "    else:\n",
    "        summary_smart += 1"
   ]
  },
  {
   "cell_type": "code",
   "execution_count": 20,
   "metadata": {},
   "outputs": [
    {
     "ename": "NameError",
     "evalue": "name 'january' is not defined",
     "output_type": "error",
     "traceback": [
      "\u001b[0;31m---------------------------------------------------------------------------\u001b[0m",
      "\u001b[0;31mNameError\u001b[0m                                 Traceback (most recent call last)",
      "\u001b[0;32m<ipython-input-20-0c1ab5b73a84>\u001b[0m in \u001b[0;36m<module>\u001b[0;34m\u001b[0m\n\u001b[1;32m     77\u001b[0m \u001b[0;34m\u001b[0m\u001b[0m\n\u001b[1;32m     78\u001b[0m \"\"\"\n\u001b[0;32m---> 79\u001b[0;31m html_output = html.format(january = january,\n\u001b[0m\u001b[1;32m     80\u001b[0m                           \u001b[0mfebruary\u001b[0m \u001b[0;34m=\u001b[0m \u001b[0mfebruary\u001b[0m\u001b[0;34m,\u001b[0m\u001b[0;34m\u001b[0m\u001b[0;34m\u001b[0m\u001b[0m\n\u001b[1;32m     81\u001b[0m                           \u001b[0mmarch\u001b[0m \u001b[0;34m=\u001b[0m \u001b[0mmarch\u001b[0m\u001b[0;34m,\u001b[0m\u001b[0;34m\u001b[0m\u001b[0;34m\u001b[0m\u001b[0m\n",
      "\u001b[0;31mNameError\u001b[0m: name 'january' is not defined"
     ]
    }
   ],
   "source": [
    "from IPython.core.display import HTML\n",
    "\n",
    "html = \"\"\"\n",
    "<html>\n",
    "    <body>\n",
    "        <h1>Summary Statistics</h1>\n",
    "        <table>\n",
    "            <tbody>\n",
    "                <tr>\n",
    "                    <td>People born in each month</td>\n",
    "                    <td>\n",
    "                        <table class=\"blueTable\">\n",
    "                            <tr>\n",
    "                                <th>January</th><th>February</th><th>March</th><th>April</th><th>May</th><th>June</th><th>July</th><th>August</th><th>September</th><th>October</th><th>November</th><th>December</th>\n",
    "                            </tr>\n",
    "                            <tr>\n",
    "                                <td>{january}</td><td>{february}</td><td>{march}</td><td>{april}</td><td>{may}</td><td>{june}</td><td>{july}</td><td>{august}</td><td>{september}</td><td>{october}</td><td>{november}</td><td>{december}</td>\n",
    "                            </tr>\n",
    "                        </table>\n",
    "                        \n",
    "                    </td>\n",
    "                </tr>\n",
    "                <tr>\n",
    "                    <td>People born on each day</td>\n",
    "                    <td>\n",
    "                        <table class=\"blueTable\">\n",
    "                            <tr>\n",
    "                                <th>1</th><th>2</th><th>3</th><th>4</th><th>5</th><th>6</th><th>7</th><th>8</th><th>9</th><th>10</th><th>11</th><th>12</th><th>13</th><th>14</th><th>15</th><th>16</th><th>17</th><th>18</th><th>19</th><th>20</th><th>21</th><th>22</th><th>23</th><th>24</th><th>25</th><th>26</th><th>27</th><th>28</th><th>29</th><th>30</th>\n",
    "                            </tr>\n",
    "                            <tr>\n",
    "                                <td>{summary1}</td><td>{summary2}</td><td>{summary3}</td><td>{summary4}</td><td>{summary5}</td><td>{summary6}</td><td>{summary7}</td><td>{summary8}</td><td>{summary9}</td><td>{summary10}</td><td>{summary11}</td><td>{summary12}</td><td>{summary13}</td><td>{summary14}</td><td>{summary15}</td><td>{summary16}</td><td>{summary17}</td><td>{summary18}</td><td>{summary19}</td><td>{summary20}</td><td>{summary21}</td><td>{summary22}</td><td>{summary23}</td><td>{summary24}</td><td>{summary25}</td><td>{summary26}</td><td>{summary27}</td><td>{summary28}</td><td>{summary29}</td><td>{summary30}</td>\n",
    "                            </tr>\n",
    "                        </table>\n",
    "                    </td>\n",
    "                </tr>\n",
    "                <tr>\n",
    "                    <td>People born in each year</td>\n",
    "                    <td>\n",
    "                        <table class=\"blueTable\">\n",
    "                            <tr>\n",
    "                                <th>1997</th><th>1998</th><th>1999</th><th>2000</th><th>2001</th>\n",
    "                            <tr>\n",
    "                                <td>{summary97}</td><td>{summary98}</td><td>{summary99}</td><td>{summary00}</td><td>{summary01}</td>\n",
    "                            </tr>\n",
    "                        </table>\n",
    "                    </td>\n",
    "                </tr>\n",
    "                <tr>\n",
    "                    <td>People coming from each course</td>\n",
    "                    <td>\n",
    "                        <table class=\"blueTable\">\n",
    "                            <tr>\n",
    "                                <th>BS Communications Technology Management</th><th>BS Information Technology Entrepreneurship</th><th>BS Legal Management</th><th>BS Management</th><th>BS Management Engineering</th>\n",
    "                            <tr>\n",
    "                                <td>{summary_ctm}</td><td>{summary_ite}</td><td>{summary_lm}</td><td>{summary_mgt}</td><td>{summary_me}</td>\n",
    "                            </tr>\n",
    "                        </table>\n",
    "                    </td>\n",
    "                </tr>\n",
    "                <tr>\n",
    "                    <td>People having numbers from Globe and Smart</td>\n",
    "                    <td>\n",
    "                        <table class=\"blueTable\">\n",
    "                            <tr>\n",
    "                                <th>Globe Users</th><th>Smart Users</th>\n",
    "                            <tr>\n",
    "                                <td>{summary_globe}</td><td>{summary_smart}</td>\n",
    "                                \n",
    "                            </tr>\n",
    "                        </table>\n",
    "                    </td>\n",
    "                </tr>\n",
    "            </tbody>\n",
    "        </table>\n",
    "    </body>\n",
    "</html>\n",
    "\n",
    "\"\"\"\n",
    "html_output = html.format(january = january,\n",
    "                          february = february,\n",
    "                          march = march,  \n",
    "                          april = april,\n",
    "                          may = may, \n",
    "                          june = june,\n",
    "                          july = july,\n",
    "                          august = august,\n",
    "                          september = september,\n",
    "                          october = october,\n",
    "                          november = november,\n",
    "                          december = december,\n",
    "                          summary1 = summary1,\n",
    "                          summary2 = summary2,\n",
    "                          summary3 = summary3,\n",
    "                          summary4 = summary4,\n",
    "                          summary5 = summary5,\n",
    "                          summary6 = summary6,\n",
    "                          summary7 = summary7,\n",
    "                          summary8 = summary8,\n",
    "                          summary9 = summary9,\n",
    "                          summary10 = summary10,\n",
    "                          summary11 = summary11, \n",
    "                          summary12 = summary12,\n",
    "                          summary13 = summary13,\n",
    "                          summary14 = summary14,\n",
    "                          summary15 = summary15,\n",
    "                          summary16 = summary16,\n",
    "                          summary17 = summary17,\n",
    "                          summary18 = summary18,\n",
    "                          summary19 = summary19,\n",
    "                          summary20 = summary20,\n",
    "                          summary21 = summary21, \n",
    "                          summary22 = summary22, \n",
    "                          summary23 = summary23,\n",
    "                          summary24 = summary24, \n",
    "                          summary25 = summary25,\n",
    "                          summary26 = summary26, \n",
    "                          summary27 = summary27,\n",
    "                          summary28 = summary28,\n",
    "                          summary29 = summary29,\n",
    "                          summary30 = summary30,\n",
    "                          summary97 = summary97,\n",
    "                          summary98 = summary98,\n",
    "                          summary99 = summary99,\n",
    "                          summary00 = summary00,\n",
    "                          summary01 = summary01,\n",
    "                          summary_ctm = summary_ctm,\n",
    "                          summary_ite = summary_ite,\n",
    "                          summary_lm = summary_lm,\n",
    "                          summary_mgt = summary_mgt,\n",
    "                          summary_me = summary_me,\n",
    "                          summary_globe = summary_globe,\n",
    "                          summary_smart = summary_smart\n",
    "                         )\n",
    "                          \n",
    "                          \n",
    "HTML(html_output)\n",
    "\n",
    "with open('stats.html',\"w\") as file:\n",
    "    file.write(html_output)"
   ]
  },
  {
   "cell_type": "code",
   "execution_count": null,
   "metadata": {},
   "outputs": [],
   "source": []
  },
  {
   "cell_type": "code",
   "execution_count": null,
   "metadata": {},
   "outputs": [],
   "source": []
  },
  {
   "cell_type": "code",
   "execution_count": null,
   "metadata": {},
   "outputs": [],
   "source": []
  },
  {
   "cell_type": "code",
   "execution_count": null,
   "metadata": {},
   "outputs": [],
   "source": []
  },
  {
   "cell_type": "code",
   "execution_count": null,
   "metadata": {},
   "outputs": [],
   "source": []
  }
 ],
 "metadata": {
  "kernelspec": {
   "display_name": "Python 3",
   "language": "python",
   "name": "python3"
  },
  "language_info": {
   "codemirror_mode": {
    "name": "ipython",
    "version": 3
   },
   "file_extension": ".py",
   "mimetype": "text/x-python",
   "name": "python",
   "nbconvert_exporter": "python",
   "pygments_lexer": "ipython3",
   "version": "3.7.3"
  }
 },
 "nbformat": 4,
 "nbformat_minor": 2
}
